{
 "cells": [
  {
   "cell_type": "code",
   "execution_count": 2,
   "id": "65f08aa6-5cb2-41d3-bcf7-89cf0975f46f",
   "metadata": {},
   "outputs": [],
   "source": [
    "import sys\n",
    "sys.path.append('/Users/leonardogacituasantos/exoplanet_photosynthesis/python_files/Ifigeneia_code')\n",
    "import numpy as np\n",
    "import matplotlib.pyplot as plt\n",
    "import Thermo_antenna as thermo\n",
    "import PSII_params\n",
    "import TypeII_params\n",
    "from scipy.constants import Boltzmann as kB\n",
    "\n",
    "# Load the K2-18b attenuated spectrum\n",
    "spectrum_file = '/Users/leonardogacituasantos/exoplanet_photosynthesis/data_files/processed_data/k2-18b_attenuated_spectrum.txt' \n",
    "l, irad_y = np.loadtxt(spectrum_file, unpack=True)\n",
    "\n",
    "T = PSII_params.T"
   ]
  },
  {
   "cell_type": "markdown",
   "id": "6ba179a9-b93b-4a1e-87f5-c980fb5d44ec",
   "metadata": {},
   "source": [
    "PSII and Type II quantum efficiency and turnover rate:"
   ]
  },
  {
   "cell_type": "code",
   "execution_count": 38,
   "id": "4d2720db-928c-46ff-8b5f-74e59e022515",
   "metadata": {},
   "outputs": [
    {
     "name": "stdout",
     "output_type": "stream",
     "text": [
      "--- PSII Analysis ---\n",
      "Electron output rate: 10.869871470468844 10.869871470468844\n",
      "Fluorescence quantum yield: 0.8168878882903052\n",
      "\n",
      "--- Type II Analysis ---\n",
      "Electron output rate: 20.755373880344298\n",
      "Quantum efficiency: 0.9441824347406527\n"
     ]
    }
   ],
   "source": [
    "# ---------------- PSII Analysis ---------------- #\n",
    "# PSII Parameters\n",
    "G_params_PSII = PSII_params.G_params    \n",
    "Size_params_PSII = PSII_params.Size_params\n",
    "k_params_PSII = PSII_params.k_params\n",
    "\n",
    "# PSII Model Calculation\n",
    "model_PSII = thermo.antenna(l, irad_y, G_params_PSII, Size_params_PSII, k_params_PSII, T)\n",
    "\n",
    "e_rate = min(model_PSII['nu_e'], 100.0)\n",
    "phi_F = model_PSII['phi_F']\n",
    "\n",
    "# Extract and Print Key Parameters for PSII\n",
    "print('--- PSII Analysis ---')\n",
    "print('Electron output rate:', e_rate, model_PSII['nu_e'] )\n",
    "print('Fluorescence quantum yield:', phi_F)\n",
    "\n",
    "# ---------------- Type II Analysis ---------------- #\n",
    "# Type II Parameters\n",
    "G_params_TypeII = TypeII_params.G_params    \n",
    "Size_params_TypeII = TypeII_params.Size_params\n",
    "k_params_TypeII = TypeII_params.k_params\n",
    "\n",
    "# Type II Model Calculation\n",
    "model_TypeII = thermo.antenna_TypeII(l, irad_y, G_params_TypeII, Size_params_TypeII, k_params_TypeII, T)\n",
    "\n",
    "# Extract and Print Key Parameters for Type II\n",
    "print('\\n--- Type II Analysis ---')\n",
    "print('Electron output rate:', model_TypeII['nu_e'])\n",
    "print('Quantum efficiency:', model_TypeII['phi_F'])"
   ]
  },
  {
   "cell_type": "code",
   "execution_count": 36,
   "id": "d5ca05f6-d024-4455-bcf3-19ad0a9642c6",
   "metadata": {},
   "outputs": [
    {
     "name": "stdout",
     "output_type": "stream",
     "text": [
      "--- PSII Analysis ---\n",
      "Electron output rate: 44.49904807128465 44.49904807128465\n",
      "Fluorescence quantum yield: 0.8168878882903052\n",
      "\n",
      "--- Type II Analysis ---\n",
      "Electron output rate: 84.96828895798248\n",
      "Quantum efficiency: 0.9441824347406527\n"
     ]
    }
   ],
   "source": [
    "# Load the K2-18b attenuated spectrum\n",
    "spectrum_file = '/Users/leonardogacituasantos/exoplanet_photosynthesis/data_files/processed_data/flux_at_K2-18b_orbital_distance.txt' \n",
    "l, irad_y = np.loadtxt(spectrum_file, unpack=True)\n",
    "\n",
    "T = PSII_params.T\n",
    "\n",
    "# ---------------- PSII Analysis ---------------- #\n",
    "# PSII Parameters\n",
    "G_params_PSII = PSII_params.G_params    \n",
    "Size_params_PSII = PSII_params.Size_params\n",
    "k_params_PSII = PSII_params.k_params\n",
    "\n",
    "# PSII Model Calculation\n",
    "model_PSII = thermo.antenna(l, irad_y, G_params_PSII, Size_params_PSII, k_params_PSII, T)\n",
    "\n",
    "e_rate = min(model_PSII['nu_e'], 100.0)\n",
    "phi_F = model_PSII['phi_F']\n",
    "\n",
    "# Extract and Print Key Parameters for PSII\n",
    "print('--- PSII Analysis ---')\n",
    "print('Electron output rate:', e_rate, model_PSII['nu_e'] )\n",
    "print('Fluorescence quantum yield:', phi_F)\n",
    "\n",
    "# ---------------- Type II Analysis ---------------- #\n",
    "# Type II Parameters\n",
    "G_params_TypeII = TypeII_params.G_params    \n",
    "Size_params_TypeII = TypeII_params.Size_params\n",
    "k_params_TypeII = TypeII_params.k_params\n",
    "\n",
    "# Type II Model Calculation\n",
    "model_TypeII = thermo.antenna_TypeII(l, irad_y, G_params_TypeII, Size_params_TypeII, k_params_TypeII, T)\n",
    "\n",
    "# Extract and Print Key Parameters for Type II\n",
    "print('\\n--- Type II Analysis ---')\n",
    "print('Electron output rate:', model_TypeII['nu_e'])\n",
    "print('Quantum efficiency:', model_TypeII['phi_F'])"
   ]
  },
  {
   "cell_type": "markdown",
   "id": "871a7c63-7126-47e3-a788-86fbfd4efe7b",
   "metadata": {},
   "source": [
    "Turnover rate and quantum efficiency of PSII Type II:"
   ]
  },
  {
   "cell_type": "markdown",
   "id": "94eec15f-d131-4850-aad4-49498ebd726f",
   "metadata": {},
   "source": [
    "Saturation levels of electron output rate in PSII system:"
   ]
  },
  {
   "cell_type": "code",
   "execution_count": 11,
   "id": "68df51dc-508f-400c-9e4f-92cf9451caaa",
   "metadata": {},
   "outputs": [
    {
     "name": "stdout",
     "output_type": "stream",
     "text": [
      "For N_LHC = 8:\n",
      "Electron rate (nu_e): 100.0\n",
      "Quantum efficiency (phi_F): 0.9137882522691134\n"
     ]
    }
   ],
   "source": [
    "l, flux = np.loadtxt(spectrum_file, unpack=True)  # Load wavelength and irradiance\n",
    "\n",
    "# Convert lists to numpy arrays for compatibility with thermo.antenna_TypeII\n",
    "l = np.array(l)\n",
    "flux = np.array(flux)\n",
    "\n",
    "# Import default parameters for Type II photosystems\n",
    "G_params = TypeII_params.G_params    \n",
    "Size_params = TypeII_params.Size_params\n",
    "k_params = TypeII_params.k_params\n",
    "T = TypeII_params.T  # Assuming T is defined in TypeII_params\n",
    "\n",
    "# Initialize variables\n",
    "n = 1  # Start with N_LHC = 5\n",
    "Size_params[2] = n  # Re-assign number of antenna subunits\n",
    "e_rate_old = 0.00001\n",
    "model = thermo.antenna_TypeII(l, flux, G_params, Size_params, k_params, T)\n",
    "e_rate_new = model['nu_e']\n",
    "phi_F_new = model['phi_F']  # Initialize phi_F_new\n",
    "\n",
    "# Find saturation point\n",
    "while (e_rate_new - e_rate_old) / e_rate_old >= 0.001:\n",
    "    n += 1\n",
    "    Size_params[2] = n  # Re-assign number of antenna subunits\n",
    "    e_rate_old = e_rate_new\n",
    "    model = thermo.antenna_TypeII(l, flux, G_params, Size_params, k_params, T)\n",
    "        \n",
    "    if model['nu_e'] < 100.0:\n",
    "        e_rate_new = model['nu_e']\n",
    "    else:\n",
    "        e_rate_new = 100.0\n",
    "            \n",
    "    phi_F_new = model['phi_F']\n",
    "\n",
    "# Output results\n",
    "print(f'For N_LHC = {n}:')\n",
    "print(f'Electron rate (nu_e): {e_rate_new}')\n",
    "print(f'Quantum efficiency (phi_F): {phi_F_new}')"
   ]
  },
  {
   "cell_type": "markdown",
   "id": "dbe43ca6-9349-46f3-bc7f-93010075e4da",
   "metadata": {},
   "source": [
    "Saturation analysis for Type II photosystems:"
   ]
  },
  {
   "cell_type": "code",
   "execution_count": 11,
   "id": "cbb529a5-a3bc-4705-9a04-3e8b1a0c1ef3",
   "metadata": {},
   "outputs": [
    {
     "name": "stdout",
     "output_type": "stream",
     "text": [
      "N_LHC: 1, Electron rate (nu_e): 1.8837895385866863e-25, Quantum efficiency (phi_F): 0.0\n"
     ]
    }
   ],
   "source": [
    "l, flux = np.loadtxt(spectrum_file, unpack=True)\n",
    "\n",
    "# Parameters\n",
    "G_params = TypeII_params.G_params    \n",
    "Size_params = TypeII_params.Size_params\n",
    "k_params = TypeII_params.k_params\n",
    "T = TypeII_params.T  # Ambient temperature\n",
    "\n",
    "# Saturation analysis\n",
    "n = 1\n",
    "Size_params[2] = n  # Start with N_LHC = 5\n",
    "e_rate_old = 0.00001\n",
    "model = thermo.antenna_TypeII(l, flux, G_params, Size_params, k_params, T)\n",
    "e_rate_new = model['nu_e']\n",
    "\n",
    "phi_F = 0.0\n",
    "while (e_rate_new - e_rate_old) / e_rate_old >= 0.001:\n",
    "    n += 1\n",
    "    Size_params[2] = n\n",
    "    e_rate_old = e_rate_new\n",
    "    model = thermo.antenna_TypeII(l, flux, G_params, Size_params, k_params, T)\n",
    "    \n",
    "    if model['nu_e'] < 100.0:\n",
    "        e_rate_new = model['nu_e']\n",
    "    else:\n",
    "        e_rate_new = 100.0\n",
    "            \n",
    "    phi_F = model['phi_F']\n",
    "\n",
    "print(f'N_LHC: {n}, Electron rate (nu_e): {e_rate_new}, Quantum efficiency (phi_F): {phi_F}')\n"
   ]
  },
  {
   "cell_type": "markdown",
   "id": "d87c6cb3-c7a6-4d9c-b99d-7a25e1f8fa79",
   "metadata": {},
   "source": [
    "Efficiency of a PSII-like photosystem with antennae of varying sizes:"
   ]
  },
  {
   "cell_type": "code",
   "execution_count": 12,
   "id": "6b8440c9-a1b3-48f2-9cd1-f6c433ada401",
   "metadata": {},
   "outputs": [
    {
     "data": {
      "image/png": "[encoded data removed]",
      "text/plain": [
       "<Figure size 640x480 with 1 Axes>"
      ]
     },
     "metadata": {},
     "output_type": "display_data"
    }
   ],
   "source": [
    "l, irad_y = np.loadtxt(spectrum_file, unpack=True)\n",
    "\n",
    "# Parameters\n",
    "G_params = PSII_params.G_params    \n",
    "Size_params = PSII_params.Size_params\n",
    "k_params = PSII_params.k_params\n",
    "T = PSII_params.T  # Ambient temperature\n",
    "N_LHC = np.arange(1.0, 56.0, 5.0)  # Range of antenna subunits\n",
    "\n",
    "# Initialize lists for results\n",
    "e_rate = []\n",
    "phi_F = []\n",
    "DeltaS_GRC = []\n",
    "\n",
    "# Loop over N_LHC\n",
    "for n in N_LHC:\n",
    "    Size_params[2] = n\n",
    "    model = thermo.antenna(l, irad_y, G_params, Size_params, k_params, T)\n",
    "\n",
    "    e_rate.append(model['nu_e'] if model['nu_e'] <= 100.0 else 100.0)\n",
    "    phi_F.append(model['phi_F'])\n",
    "    DeltaS_GRC.append(model['DeltaG_2RC'][0])\n",
    "\n",
    "# Plotting (adapt as needed)\n",
    "plt.figure()\n",
    "plt.plot(N_LHC, e_rate, label='Electron Output Rate', color='blue')\n",
    "plt.plot(N_LHC, phi_F, label='Quantum Yield', color='green')\n",
    "plt.xlabel('$N_{LHC}$')\n",
    "plt.ylabel('Values')\n",
    "plt.title('Acclimate Analysis for K2-18b')\n",
    "plt.legend()\n",
    "plt.show()\n"
   ]
  },
  {
   "cell_type": "code",
   "execution_count": 3,
   "id": "3d117aad-ea52-431f-a948-abe1898449a0",
   "metadata": {},
   "outputs": [
    {
     "ename": "NameError",
     "evalue": "name 'G_params_TypeII' is not defined",
     "output_type": "error",
     "traceback": [
      "\u001b[0;31m---------------------------------------------------------------------------\u001b[0m",
      "\u001b[0;31mNameError\u001b[0m                                 Traceback (most recent call last)",
      "Input \u001b[0;32mIn [3]\u001b[0m, in \u001b[0;36m<cell line: 15>\u001b[0;34m()\u001b[0m\n\u001b[1;32m     17\u001b[0m F_D \u001b[38;5;241m=\u001b[39m F_0 \u001b[38;5;241m*\u001b[39m np\u001b[38;5;241m.\u001b[39mexp(\u001b[38;5;241m-\u001b[39malpha \u001b[38;5;241m*\u001b[39m D)\n\u001b[1;32m     19\u001b[0m \u001b[38;5;66;03m# Type II Model Calculation using the attenuated flux\u001b[39;00m\n\u001b[0;32m---> 20\u001b[0m model_TypeII \u001b[38;5;241m=\u001b[39m thermo\u001b[38;5;241m.\u001b[39mantenna_TypeII(l, F_D, \u001b[43mG_params_TypeII\u001b[49m, Size_params_TypeII, k_params_TypeII, T)\n\u001b[1;32m     22\u001b[0m \u001b[38;5;66;03m# Append the electron output rate to the list\u001b[39;00m\n\u001b[1;32m     23\u001b[0m electron_output_rates\u001b[38;5;241m.\u001b[39mappend(model_TypeII[\u001b[38;5;124m'\u001b[39m\u001b[38;5;124mnu_e\u001b[39m\u001b[38;5;124m'\u001b[39m])\n",
      "\u001b[0;31mNameError\u001b[0m: name 'G_params_TypeII' is not defined"
     ]
    }
   ],
   "source": [
    "import numpy as np\n",
    "import matplotlib.pyplot as plt\n",
    "\n",
    "# Define parameters for Beer-Lambert law\n",
    "alpha = 0.1  # absorption coefficient\n",
    "D_values = np.linspace(0, 100, 100)  # depths from 0 to 100 meters\n",
    "\n",
    "# Original input flux\n",
    "F_0 = irad_y\n",
    "\n",
    "# Initialize list to store electron output rates\n",
    "electron_output_rates = []\n",
    "\n",
    "# Iterate over different depths\n",
    "for D in D_values:\n",
    "    # Calculate flux at depth D using Beer's Law\n",
    "    F_D = F_0 * np.exp(-alpha * D)\n",
    "    \n",
    "    # Type II Model Calculation using the attenuated flux\n",
    "    model_TypeII = thermo.antenna_TypeII(l, F_D, G_params_TypeII, Size_params_TypeII, k_params_TypeII, T)\n",
    "    \n",
    "    # Append the electron output rate to the list\n",
    "    electron_output_rates.append(model_TypeII['nu_e'])\n",
    "\n",
    "# Plot electron output rate as a function of depth\n",
    "plt.figure(figsize=(10, 6))\n",
    "plt.plot(D_values, electron_output_rates, label='Electron Output Rate (Type II)', color='blue')\n",
    "plt.xlabel('Depth (m)')\n",
    "plt.ylabel('Electron Output Rate')\n",
    "plt.title('Electron Output Rate as a Function of Depth')\n",
    "plt.grid(True)\n",
    "plt.legend()\n",
    "plt.show()\n"
   ]
  },
  {
   "cell_type": "code",
   "execution_count": null,
   "id": "4b15f0e1",
   "metadata": {},
   "outputs": [],
   "source": []
  }
 ],
 "metadata": {
  "kernelspec": {
   "display_name": "Python 3 (ipykernel)",
   "language": "python",
   "name": "python3"
  },
  "language_info": {
   "codemirror_mode": {
    "name": "ipython",
    "version": 3
   },
   "file_extension": ".py",
   "mimetype": "text/x-python",
   "name": "python",
   "nbconvert_exporter": "python",
   "pygments_lexer": "ipython3",
   "version": "3.9.6"
  }
 },
 "nbformat": 4,
 "nbformat_minor": 5
}
